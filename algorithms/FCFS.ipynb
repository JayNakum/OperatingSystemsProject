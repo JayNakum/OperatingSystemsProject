{
  "cells": [
    {
      "cell_type": "markdown",
      "metadata": {},
      "source": [
        "# First Come First Serve"
      ]
    },
    {
      "cell_type": "markdown",
      "metadata": {
        "id": "yEkDUVrwlcln"
      },
      "source": [
        "## Setting up firebase"
      ]
    },
    {
      "cell_type": "code",
      "execution_count": null,
      "metadata": {
        "id": "6NNbtfjZalqL"
      },
      "outputs": [],
      "source": [
        "# imports\n",
        "import firebase_admin\n",
        "from firebase_admin import credentials, firestore\n",
        "\n",
        "# get the credential certificate from json file\n",
        "cred = credentials.Certificate('jaynakum-experiments-88cc723f2db9.json')\n",
        "# using the credentials initialize the firebase app\n",
        "default_app = firebase_admin.initialize_app(cred, {'storageBucket': 'jaynakum-experiments.appspot.com'})\n",
        "# initialize the database\n",
        "db = firestore.client()\n",
        "\n",
        "# initialize the main document reference\n",
        "doc_ref = db.collection(u'CPU Scheduling')\n"
      ]
    },
    {
      "cell_type": "markdown",
      "metadata": {
        "id": "3y3mL9uM0Vyp"
      },
      "source": [
        "## Generate gantt chart and output table"
      ]
    },
    {
      "cell_type": "code",
      "execution_count": null,
      "metadata": {
        "id": "P4J1FVUagGFU"
      },
      "outputs": [],
      "source": [
        "# imports\n",
        "from matplotlib import pyplot as plt\n",
        "from firebase_admin import storage\n",
        "\n",
        "# method to generate gantt chart\n",
        "def generateGanttChart(ganttChart: list) -> None:\n",
        "  # create a figure and a set of subplots\n",
        "  fig, gnt = plt.subplots()\n",
        "\n",
        "  # set x-axis limit from 0 to the last entry of gantt chart\n",
        "  gnt.set_xlim(0, ganttChart[(len(ganttChart) - 1)]['Exit Time'] + 1)\n",
        "  # set y-axis limit to 1 because the chart is one line only\n",
        "  gnt.set_ylim(0, 1)\n",
        "\n",
        "  # set labels for both the axis\n",
        "  gnt.set_xlabel('Time')\n",
        "  gnt.set_ylabel('Process ID')\n",
        "\n",
        "  # set y ticks and set labels = '' because there is no need to display it\n",
        "  gnt.set_yticks([10, 20])\n",
        "  gnt.set_yticklabels(['', ''])\n",
        "\n",
        "  # the chart alternates between green and blue color\n",
        "  # _isGreen flag is used to determine the color of broken_barh [broken bar horizontal]\n",
        "  _isGreen = True\n",
        "  for gantt in ganttChart:\n",
        "    # _isGreen alternates between true and false\n",
        "    _isGreen = not _isGreen\n",
        "    # if true draw with green color else draw with blue\n",
        "    if(_isGreen):\n",
        "      # draw the broken_barh(start_time, duration_time)\n",
        "      gnt.broken_barh([(gantt['Start Time'], (gantt['Exit Time'] - gantt['Start Time']))], (8, 4), facecolors=('tab:green'))\n",
        "    else:\n",
        "      # draw the broken_barh(start_time, duration_time)\n",
        "      gnt.broken_barh([(gantt['Start Time'], (gantt['Exit Time'] - gantt['Start Time']))], (8, 4))\n",
        "    # annotate the chart with the process' ID\n",
        "    gnt.annotate(gantt['Process ID'], (gantt['Start Time'] + 0.2, 9.7))\n",
        "\n",
        "  # save the output file\n",
        "  plt.savefig('output/ganttChart.png')\n",
        "  fileName = 'output/ganttChart.png'\n",
        "  # print('Gantt Chart generated at: ' + fileName)\n",
        "\n",
        "  # initialize the storage folder / bucket\n",
        "  bucket = storage.bucket()\n",
        "  # initialize the image blob\n",
        "  blob = bucket.blob(fileName)\n",
        "  # upload the image blob to firebase\n",
        "  blob.upload_from_filename(fileName)\n",
        "\n",
        "# method to generate output table\n",
        "def generateOutput(outputProcesses: list, avgWT: int, avgTAT: int) -> None:\n",
        "  # initializing a list of column lables\n",
        "  columnLables = [\n",
        "    'Process ID',\n",
        "    'Arrival Time',\n",
        "    'Burst Time',\n",
        "    'Waiting Time',\n",
        "    'Completion Time',\n",
        "    'Turn Around Time',\n",
        "    'Response Time'\n",
        "  ]\n",
        "\n",
        "  # making a list of each row(as list) from output \n",
        "  values = [[outputProcesses[i]['Process ID'], outputProcesses[i]['Arrival Time'], outputProcesses[i]['Burst Time'], outputProcesses[i]['Waiting Time'], outputProcesses[i]['Completion Time'], outputProcesses[i]['Turn Around Time'], outputProcesses[i]['Response Time']]for i in range(0, len(outputProcesses))]\n",
        "\n",
        "  # set size and layout of output figure\n",
        "  plt.rcParams[\"figure.figsize\"] = [11.0, 3.0]\n",
        "  plt.rcParams[\"figure.autolayout\"] = True\n",
        "  # create a figure and a set of subplots\n",
        "  fig, table = plt.subplots()\n",
        "  \n",
        "  # turn off x and y axis\n",
        "  table.set_axis_off()\n",
        "  # enter the data into the table\n",
        "  # cellText = values and colLabels = columnLabels with location center\n",
        "  outputTable = table.table(cellText=values, colLabels=columnLables, cellLoc='center', loc='center')\n",
        "  # scale the output image\n",
        "  outputTable.scale(1.5, 1.5)\n",
        "  # print 'Average Waiting Time' and 'Average Turn Around Time' in the image\n",
        "  table.set_title('Average Waiting Time = ' + str(avgWT) + '\\nAverage Turn Around Time = ' + str(avgTAT))\n",
        "\n",
        "  # save the output file\n",
        "  plt.savefig('output/outputTable.png')\n",
        "  fileName = 'output/outputTable.png'\n",
        "  # print('Output Table generated at: ' + fileName)\n",
        "\n",
        "  # initialize the storage folder / bucket\n",
        "  bucket = storage.bucket()\n",
        "  # initialize the image blob\n",
        "  blob = bucket.blob(fileName)\n",
        "  # upload the image blob to firebase\n",
        "  blob.upload_from_filename(fileName)\n"
      ]
    },
    {
      "cell_type": "markdown",
      "metadata": {
        "id": "KPQOwCOy0ffr"
      },
      "source": [
        "## First Come First Serve"
      ]
    },
    {
      "cell_type": "code",
      "execution_count": null,
      "metadata": {
        "id": "KFp-OkvDgU9S"
      },
      "outputs": [],
      "source": [
        "# main FCFS class for simulation of first come first serve algorithm\n",
        "class FCFS:\n",
        "\n",
        "  def __init__(self, processes: list) -> None:\n",
        "    # global time variable to keep track of all the timings\n",
        "    self.time = 0\n",
        "    # list of all processes where each process is a dict\n",
        "    self.processes = processes\n",
        "    # calculating the number of processes\n",
        "    self.numberOfProcesses = len(processes)\n",
        "\n",
        "  # simulate method performs the simulation\n",
        "  def simulate(self) -> None:\n",
        "    # initializing a list to store a dict of PID, Start Time and Exit Time\n",
        "    ganttChart = []\n",
        "\n",
        "    # the simulation\n",
        "    for process in self.processes: # TIME COMPLEXITY: O(n)\n",
        "\n",
        "      # check for an empty state\n",
        "      if(process['Arrival Time'] > self.time):\n",
        "        self.time += (process['Arrival Time'] - self.time)\n",
        "\n",
        "      # note the 'Response Time' of each process\n",
        "      if 'Response Time' in process.keys():\n",
        "        pass\n",
        "      else:\n",
        "        process['Response Time'] = (self.time - process['Arrival Time'])\n",
        "\n",
        "      # add the values to gantt chart\n",
        "      # where start time = global time and exit time = global time + 'Burst Time'\n",
        "      ganttChart.append({'Process ID': process['Process ID'], 'Start Time': self.time, 'Exit Time': self.time + process['Burst Time']})\n",
        "      # increment the global time\n",
        "      self.time += process['Burst Time']\n",
        "      # note the 'Completion Time'\n",
        "      process['Completion Time'] = self.time\n",
        "    \n",
        "    # generate and upload gantt chart image\n",
        "    generateGanttChart(ganttChart)\n",
        "\n",
        "  # method to calculate TAT, WT and average of TAT and WT\n",
        "  def calculateTimes(self) -> int:\n",
        "    sumTAT = 0\n",
        "    sumWT = 0\n",
        "\n",
        "    # iterate through each process and calculate its times\n",
        "    for process in self.processes: # TIME COMPLEXITY: O(n)\n",
        "      # turn around time = completion time - arrival time\n",
        "      process['Turn Around Time'] = process['Completion Time'] - process['Arrival Time']\n",
        "      # waiting time = turn around time - birst time\n",
        "      process['Waiting Time'] = process['Turn Around Time'] - process['Burst Time']\n",
        "\n",
        "      # calculate the sum\n",
        "      sumTAT += process['Turn Around Time']\n",
        "      sumWT += process['Waiting Time']\n",
        "    # calculate average using the sum\n",
        "    avgWT = (sumWT / self.numberOfProcesses)\n",
        "    avgTAT = (sumTAT / self.numberOfProcesses)\n",
        "    # generate and upload output table image\n",
        "    generateOutput(self.processes, avgWT, avgTAT)\n"
      ]
    },
    {
      "cell_type": "markdown",
      "metadata": {
        "id": "WOCWZC-Plq-4"
      },
      "source": [
        "## Get input from firebase"
      ]
    },
    {
      "cell_type": "code",
      "execution_count": null,
      "metadata": {
        "colab": {
          "base_uri": "https://localhost:8080/",
          "height": 750
        },
        "id": "Han2h2HaajfO",
        "outputId": "6419f85b-f056-47a9-a7f8-0bc79ea936a0"
      },
      "outputs": [],
      "source": [
        "# imports\n",
        "import threading\n",
        "import time\n",
        "\n",
        "# Create an Event for notifying main thread.\n",
        "callback_done = threading.Event()\n",
        "\n",
        "# Create a callback on_snapshot function to capture changes\n",
        "def on_snapshot(doc_snapshot, changes, read_time):\n",
        "  for change in changes:\n",
        "    # Check for a change in document\n",
        "    if change.type.name == 'MODIFIED':\n",
        "      # print(u'Change: {}'.format(change.document.id))\n",
        "      # iterate through each document snapshot\n",
        "      for doc in doc_snapshot:\n",
        "        print(f'Received new document snapshot: {doc.id}')\n",
        "        # initialize the input processes\n",
        "        input = doc.to_dict()\n",
        "        inputProcesses = input['Processes']\n",
        "        print(inputProcesses)\n",
        "        # dict containing the processes, gantt chart, average waiting time and average turn around time\n",
        "        inputProcesses.sort(key=lambda process: process['Arrival Time']) # Timsort Algorithm TIME COMPLEXITY: O(nlogn)\n",
        "        \n",
        "        # initialize the main output dict\n",
        "        output = {\n",
        "            'Processes': inputProcesses,\n",
        "            'Gantt Chart': [],\n",
        "            'Average Waiting Time': 0,\n",
        "            'Average Turn Around Time': 0\n",
        "        }\n",
        "\n",
        "        # create object of FCFS class\n",
        "        fcfs = FCFS(output['Processes'])\n",
        "        # and call its methods\n",
        "        fcfs.simulate()\n",
        "        fcfs.calculateTimes()\n",
        "    # return the control to document watch\n",
        "    callback_done.set()\n",
        "\n",
        "# Watch the document\n",
        "doc_watch = doc_ref.on_snapshot(on_snapshot)\n",
        "\n",
        "# Keep the app running\n",
        "while True:\n",
        "    time.sleep(1)\n",
        "    # print('watching')\n"
      ]
    }
  ],
  "metadata": {
    "colab": {
      "collapsed_sections": [
        "SQX2ctPI0kyC"
      ],
      "name": "FCFS.ipynb",
      "provenance": []
    },
    "kernelspec": {
      "display_name": "Python 3",
      "name": "python3"
    },
    "language_info": {
      "name": "python"
    }
  },
  "nbformat": 4,
  "nbformat_minor": 0
}
