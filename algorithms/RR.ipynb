{
  "nbformat": 4,
  "nbformat_minor": 0,
  "metadata": {
    "colab": {
      "name": "RR.ipynb",
      "provenance": [],
      "collapsed_sections": []
    },
    "kernelspec": {
      "name": "python3",
      "display_name": "Python 3"
    },
    "language_info": {
      "name": "python"
    }
  },
  "cells": [
    {
      "cell_type": "markdown",
      "source": [
        "## Setting up firebase"
      ],
      "metadata": {
        "id": "yEkDUVrwlcln"
      }
    },
    {
      "cell_type": "code",
      "source": [
        "# imports\n",
        "import firebase_admin\n",
        "from firebase_admin import credentials, firestore\n",
        "\n",
        "# get the credential certificate from json file\n",
        "cred = credentials.Certificate('jaynakum-experiments-88cc723f2db9.json')\n",
        "# using the credentials initialize the firebase app\n",
        "default_app = firebase_admin.initialize_app(cred, {'storageBucket': 'jaynakum-experiments.appspot.com'})\n",
        "# initialize the database\n",
        "db = firestore.client()\n",
        "\n",
        "# initialize the main document reference\n",
        "doc_ref = db.collection(u'CPU Scheduling')\n"
      ],
      "metadata": {
        "id": "6NNbtfjZalqL"
      },
      "execution_count": null,
      "outputs": []
    },
    {
      "cell_type": "markdown",
      "source": [
        "## Generate gantt chart and output table"
      ],
      "metadata": {
        "id": "3y3mL9uM0Vyp"
      }
    },
    {
      "cell_type": "code",
      "source": [
        "# imports\n",
        "from matplotlib import pyplot as plt\n",
        "from firebase_admin import storage\n",
        "\n",
        "# method to generate gantt chart\n",
        "def generateGanttChart(ganttChart: list) -> None:\n",
        "  # create a figure and a set of subplots\n",
        "  fig, gnt = plt.subplots()\n",
        "\n",
        "  # set x-axis limit from 0 to the last entry of gantt chart\n",
        "  gnt.set_xlim(0, ganttChart[(len(ganttChart) - 1)]['Exit Time'] + 1)\n",
        "  # set y-axis limit to 1 because the chart is one line only\n",
        "  gnt.set_ylim(0, 1)\n",
        "\n",
        "  # set labels for both the axis\n",
        "  gnt.set_xlabel('Time')\n",
        "  gnt.set_ylabel('Process ID')\n",
        "\n",
        "  # set y ticks and set labels = '' because there is no need to display it\n",
        "  gnt.set_yticks([10, 20])\n",
        "  gnt.set_yticklabels(['', ''])\n",
        "\n",
        "  # the chart alternates between green and blue color\n",
        "  # _isGreen flag is used to determine the color of broken_barh [broken bar horizontal]\n",
        "  _isGreen = True\n",
        "  for gantt in ganttChart:\n",
        "    # _isGreen alternates between true and false\n",
        "    _isGreen = not _isGreen\n",
        "    # if true draw with green color else draw with blue\n",
        "    if(_isGreen):\n",
        "      # draw the broken_barh(start_time, duration_time)\n",
        "      gnt.broken_barh([(gantt['Start Time'], (gantt['Exit Time'] - gantt['Start Time']))], (8, 4), facecolors=('tab:green'))\n",
        "    else:\n",
        "      # draw the broken_barh(start_time, duration_time)\n",
        "      gnt.broken_barh([(gantt['Start Time'], (gantt['Exit Time'] - gantt['Start Time']))], (8, 4))\n",
        "    # annotate the chart with the process' ID\n",
        "    gnt.annotate(gantt['Process ID'], (gantt['Start Time'] + 0.2, 9.7))\n",
        "\n",
        "  # save the output file\n",
        "  plt.savefig('output/ganttChart.png')\n",
        "  fileName = 'output/ganttChart.png'\n",
        "  # print('Gantt Chart generated at: ' + fileName)\n",
        "\n",
        "  # initialize the storage folder / bucket\n",
        "  bucket = storage.bucket()\n",
        "  # initialize the image blob\n",
        "  blob = bucket.blob(fileName)\n",
        "  # upload the image blob to firebase\n",
        "  blob.upload_from_filename(fileName)\n",
        "\n",
        "# method to generate output table\n",
        "def generateOutput(outputProcesses: list, avgWT: int, avgTAT: int) -> None:\n",
        "  # initializing a list of column lables\n",
        "  columnLables = [\n",
        "    'Process ID',\n",
        "    'Arrival Time',\n",
        "    'Burst Time',\n",
        "    'Waiting Time',\n",
        "    'Completion Time',\n",
        "    'Turn Around Time',\n",
        "    'Response Time'\n",
        "  ]\n",
        "\n",
        "  # making a list of each row(as list) from output \n",
        "  values = [[outputProcesses[i]['Process ID'], outputProcesses[i]['Arrival Time'], outputProcesses[i]['Burst Time'], outputProcesses[i]['Waiting Time'], outputProcesses[i]['Completion Time'], outputProcesses[i]['Turn Around Time'], outputProcesses[i]['Response Time']]for i in range(0, len(outputProcesses))]\n",
        "\n",
        "  # set size and layout of output figure\n",
        "  plt.rcParams[\"figure.figsize\"] = [11.0, 3.0]\n",
        "  plt.rcParams[\"figure.autolayout\"] = True\n",
        "  # create a figure and a set of subplots\n",
        "  fig, table = plt.subplots()\n",
        "  \n",
        "  # turn off x and y axis\n",
        "  table.set_axis_off()\n",
        "  # enter the data into the table\n",
        "  # cellText = values and colLabels = columnLabels with location center\n",
        "  outputTable = table.table(cellText=values, colLabels=columnLables, cellLoc='center', loc='center')\n",
        "  # scale the output image\n",
        "  outputTable.scale(1.5, 1.5)\n",
        "  # print 'Average Waiting Time' and 'Average Turn Around Time' in the image\n",
        "  table.set_title('Average Waiting Time = ' + str(avgWT) + '\\nAverage Turn Around Time = ' + str(avgTAT))\n",
        "\n",
        "  # save the output file\n",
        "  plt.savefig('output/outputTable.png')\n",
        "  fileName = 'output/outputTable.png'\n",
        "  # print('Output Table generated at: ' + fileName)\n",
        "\n",
        "  # initialize the storage folder / bucket\n",
        "  bucket = storage.bucket()\n",
        "  # initialize the image blob\n",
        "  blob = bucket.blob(fileName)\n",
        "  # upload the image blob to firebase\n",
        "  blob.upload_from_filename(fileName)\n"
      ],
      "metadata": {
        "id": "P4J1FVUagGFU"
      },
      "execution_count": null,
      "outputs": []
    },
    {
      "cell_type": "markdown",
      "source": [
        "## Round Robin"
      ],
      "metadata": {
        "id": "KPQOwCOy0ffr"
      }
    },
    {
      "cell_type": "code",
      "source": [
        "class RoundRobin:\n",
        "  def __init__(self, processes, QUANTUM) -> None:\n",
        "    \n",
        "    self.processes = processes\n",
        "    self.processCount = len(self.processes)\n",
        "    self.QUANTUM = QUANTUM\n",
        "    self.ganttChart = [] # the main list which will contain the ganttChart \n",
        "  \n",
        "  # This method does the execution of the the process and generates a Gantt Chart\n",
        "  def simulate(self) -> None: # and returns a ganttChart\n",
        "    \n",
        "    isDone = False\n",
        "    time = 0 # initial startTime\n",
        "    i = 0 # starting with process[0]\n",
        "\n",
        "    while not isDone:\n",
        "      if(i >= self.processCount):\n",
        "        i = 0\n",
        "\n",
        "      if(self.processes[(self.processCount-1)]['Burst Time'] == 0): # if the remaining burst time of last process is zero\n",
        "        isDone = True # then gantt chart is formed\n",
        "            \n",
        "      # remainingBurstTime is the time left to execute\n",
        "      remainingBurstTime = self.processes[i]['Burst Time'] # initially the burst time will be the remainingBurstTime\n",
        "            \n",
        "      if(remainingBurstTime == 0): # if the remaining time is zero\n",
        "        i += 1 # then we skip to the next process\n",
        "        continue\n",
        "      \n",
        "      # Check if there is an empty state\n",
        "      while(self.processes[i]['Arrival Time'] > time):\n",
        "        time += 1 # keep CPU empty\n",
        "            \n",
        "      ganttStart = time # note the start time before execution begins\n",
        "\n",
        "      # performing the execution of process\n",
        "      for _ in range(0, self.QUANTUM): # executing the process for given Time (QUANTUM)\n",
        "        remainingBurstTime -= 1\n",
        "        time = time + 1\n",
        "        if(remainingBurstTime == 0): # if remainingBurstTime is 0\n",
        "          break # then the process is fully executed\n",
        "            \n",
        "      ganttStop = time # note the stop time after finishing the execution\n",
        "\n",
        "      # add the 'Process ID', 'Start Time' and 'Stop Time' in ganttChart\n",
        "      self.ganttChart.append({'Process ID': self.processes[i]['Process ID'], 'Start Time': ganttStart, 'Exit Time': ganttStop})\n",
        "      # updating the process 'Burst Time' to remainingBurstTime\n",
        "      self.processes[i]['Burst Time'] = remainingBurstTime\n",
        "\n",
        "      i += 1 # next process\n",
        "\n",
        "    print(self.ganttChart)\n",
        "    self.calculateTimes()\n",
        "\n",
        "    generateGanttChart(self.ganttChart)\n",
        "    generateOutput(self.processes, self.calculateAverageWaitingTime(), self.calculateAverageTurnAroundTime())\n",
        "\n",
        "  # this method calculates the completionTime, turnAroundTime, waitingTime and responseTime of each process\n",
        "  def calculateTimes(self) -> None:\n",
        "    for process in self.processes:\n",
        "      for gantt in self.ganttChart: # it reads the ganttChart\n",
        "        if(process['Process ID'] == gantt['Process ID']): # and updates the values everytime both the 'Process Id' matches\n",
        "          process['Completion Time'] = gantt['Exit Time']\n",
        "                    \n",
        "      # Turn Around Time = Completion Time - Arrival Time\n",
        "      process['Turn Around Time'] = process['Completion Time'] - process['Arrival Time']\n",
        "      # Waiting Time = Turn Around Time - Burst Time\n",
        "      process['Waiting Time'] = process['Turn Around Time'] - process['Burst Time']\n",
        "      # In Round Robin, Response Time = Waiting Time - Arrival Time \n",
        "      process['Response Time'] = process['Waiting Time'] - process['Arrival Time']\n",
        "\n",
        "  # this method calculates the average of all waitingTimes\n",
        "  def calculateAverageWaitingTime(self) -> float:\n",
        "    sum = 0\n",
        "    for process in self.processes:\n",
        "      # calculating the sum\n",
        "      sum = sum + process['Waiting Time']\n",
        "    # dividing by total processes\n",
        "    return (sum / self.processCount) # returning the average\n",
        "\n",
        "  # this method calculates the average of all turnAroundTimes\n",
        "  def calculateAverageTurnAroundTime(self) -> float:\n",
        "    sum = 0\n",
        "    for process in self.processes:\n",
        "      # calculating the sum\n",
        "      sum = sum + process['Turn Around Time']\n",
        "    # dividing by total processes\n",
        "    return (sum / self.processCount) # returning the average\n"
      ],
      "metadata": {
        "id": "KFp-OkvDgU9S"
      },
      "execution_count": null,
      "outputs": []
    },
    {
      "cell_type": "markdown",
      "source": [
        "## Get input from firebase"
      ],
      "metadata": {
        "id": "WOCWZC-Plq-4"
      }
    },
    {
      "cell_type": "code",
      "source": [
        "# imports\n",
        "import threading\n",
        "import time\n",
        "\n",
        "# Create an Event for notifying main thread.\n",
        "callback_done = threading.Event()\n",
        "\n",
        "# Create a callback on_snapshot function to capture changes\n",
        "def on_snapshot(doc_snapshot, changes, read_time):\n",
        "  for change in changes:\n",
        "    # Check for a change in document\n",
        "    if change.type.name == 'MODIFIED':\n",
        "      # print(u'Change: {}'.format(change.document.id))\n",
        "      # iterate through each document snapshot\n",
        "      for doc in doc_snapshot:\n",
        "        print(f'Received new document snapshot: {doc.id}')\n",
        "        # initialize the input processes\n",
        "        input = doc.to_dict()\n",
        "        # print(input)\n",
        "        inputProcesses = input['Processes']\n",
        "        QUANTUM = input['Time Quantum']\n",
        "        print(inputProcesses)\n",
        "        print(QUANTUM)\n",
        "        # dict containing the processes, gantt chart, average waiting time and average turn around time\n",
        "        inputProcesses.sort(key=lambda process: process['Arrival Time']) # Timsort Algorithm TIME COMPLEXITY: O(nlogn)\n",
        "\n",
        "        # create object of RoundRobin class and call it's method\n",
        "        RoundRobin(processes = inputProcesses, QUANTUM = QUANTUM).simulate()\n",
        "\n",
        "    # return the control to document watch\n",
        "    callback_done.set()\n",
        "\n",
        "# Watch the document\n",
        "doc_watch = doc_ref.on_snapshot(on_snapshot)\n",
        "\n",
        "# Keep the app running\n",
        "while True:\n",
        "    time.sleep(1)\n",
        "    # print('watching')\n"
      ],
      "metadata": {
        "colab": {
          "base_uri": "https://localhost:8080/",
          "height": 1000
        },
        "id": "Han2h2HaajfO",
        "outputId": "d1f36124-6cbb-4380-db77-7ff242736494"
      },
      "execution_count": null,
      "outputs": [
        {
          "output_type": "stream",
          "name": "stdout",
          "text": [
            "Received new document snapshot: Round Robin\n",
            "[{'Arrival Time': 0, 'Burst Time': 5, 'Process ID': 0}, {'Arrival Time': 2, 'Process ID': 1, 'Burst Time': 3}, {'Arrival Time': 1, 'Burst Time': 4, 'Process ID': 2}]\n",
            "3\n",
            "Debug Point 2\n",
            "Debug Point 3\n",
            "[{'Process ID': 0, 'Start Time': 0, 'Exit Time': 3}, {'Process ID': 2, 'Start Time': 3, 'Exit Time': 6}, {'Process ID': 1, 'Start Time': 6, 'Exit Time': 9}, {'Process ID': 0, 'Start Time': 9, 'Exit Time': 11}]\n",
            "Received new document snapshot: Round Robin\n",
            "[{'Process ID': 0, 'Burst Time': 5, 'Arrival Time': 0}, {'Process ID': 1, 'Arrival Time': 1, 'Burst Time': 2}, {'Burst Time': 4, 'Process ID': 2, 'Arrival Time': 3}]\n",
            "3\n",
            "Debug Point 2\n",
            "Debug Point 3\n",
            "[{'Process ID': 0, 'Start Time': 0, 'Exit Time': 3}, {'Process ID': 1, 'Start Time': 3, 'Exit Time': 5}, {'Process ID': 2, 'Start Time': 5, 'Exit Time': 8}, {'Process ID': 0, 'Start Time': 8, 'Exit Time': 10}, {'Process ID': 2, 'Start Time': 10, 'Exit Time': 11}]\n"
          ]
        },
        {
          "output_type": "error",
          "ename": "KeyboardInterrupt",
          "evalue": "ignored",
          "traceback": [
            "\u001b[0;31m---------------------------------------------------------------------------\u001b[0m",
            "\u001b[0;31mKeyboardInterrupt\u001b[0m                         Traceback (most recent call last)",
            "\u001b[0;32m<ipython-input-4-6cf6491061c8>\u001b[0m in \u001b[0;36m<module>\u001b[0;34m()\u001b[0m\n\u001b[1;32m     36\u001b[0m \u001b[0;31m# Keep the app running\u001b[0m\u001b[0;34m\u001b[0m\u001b[0;34m\u001b[0m\u001b[0;34m\u001b[0m\u001b[0m\n\u001b[1;32m     37\u001b[0m \u001b[0;32mwhile\u001b[0m \u001b[0;32mTrue\u001b[0m\u001b[0;34m:\u001b[0m\u001b[0;34m\u001b[0m\u001b[0;34m\u001b[0m\u001b[0m\n\u001b[0;32m---> 38\u001b[0;31m     \u001b[0mtime\u001b[0m\u001b[0;34m.\u001b[0m\u001b[0msleep\u001b[0m\u001b[0;34m(\u001b[0m\u001b[0;36m1\u001b[0m\u001b[0;34m)\u001b[0m\u001b[0;34m\u001b[0m\u001b[0;34m\u001b[0m\u001b[0m\n\u001b[0m\u001b[1;32m     39\u001b[0m     \u001b[0;31m# print('watching')\u001b[0m\u001b[0;34m\u001b[0m\u001b[0;34m\u001b[0m\u001b[0;34m\u001b[0m\u001b[0m\n",
            "\u001b[0;31mKeyboardInterrupt\u001b[0m: "
          ]
        },
        {
          "output_type": "display_data",
          "data": {
            "text/plain": [
              "<Figure size 432x288 with 1 Axes>"
            ],
            "image/png": "[encoded data removed]"
          },
          "metadata": {
            "needs_background": "light"
          }
        },
        {
          "output_type": "display_data",
          "data": {
            "text/plain": [
              "<Figure size 792x216 with 1 Axes>"
            ],
            "image/png": "[encoded data removed]"
          },
          "metadata": {
            "needs_background": "light"
          }
        },
        {
          "output_type": "display_data",
          "data": {
            "text/plain": [
              "<Figure size 792x216 with 1 Axes>"
            ],
            "image/png": "[encoded data removed]"
          },
          "metadata": {
            "needs_background": "light"
          }
        },
        {
          "output_type": "display_data",
          "data": {
            "text/plain": [
              "<Figure size 792x216 with 1 Axes>"
            ],
            "image/png": "[encoded data removed]"
          },
          "metadata": {
            "needs_background": "light"
          }
        }
      ]
    }
  ]
}