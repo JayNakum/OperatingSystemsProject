{
  "cells": [
    {
      "cell_type": "markdown",
      "metadata": {
        "id": "uibzthcD1cu-"
      },
      "source": [
        "# Shortest Job First"
      ]
    },
    {
      "cell_type": "markdown",
      "metadata": {
        "id": "yEkDUVrwlcln"
      },
      "source": [
        "## Setting up firebase"
      ]
    },
    {
      "cell_type": "code",
      "execution_count": null,
      "metadata": {
        "colab": {
          "base_uri": "https://localhost:8080/",
          "height": 420
        },
        "id": "6NNbtfjZalqL",
        "outputId": "6ee6652b-b2ff-4c0d-bce3-e0861eeab02d"
      },
      "outputs": [],
      "source": [
        "# imports\n",
        "import firebase_admin\n",
        "from firebase_admin import credentials, firestore\n",
        "\n",
        "# get the credential certificate from json file\n",
        "cred = credentials.Certificate('jaynakum-experiments-88cc723f2db9.json')\n",
        "# using the credentials initialize the firebase app\n",
        "default_app = firebase_admin.initialize_app(cred, {'storageBucket': 'jaynakum-experiments.appspot.com'})\n",
        "# initialize the database\n",
        "db = firestore.client()\n",
        "\n",
        "# initialize the main document reference\n",
        "doc_ref = db.collection(u'CPU Scheduling')\n"
      ]
    },
    {
      "cell_type": "markdown",
      "metadata": {
        "id": "3y3mL9uM0Vyp"
      },
      "source": [
        "## Generate gantt chart and output table"
      ]
    },
    {
      "cell_type": "code",
      "execution_count": null,
      "metadata": {
        "id": "P4J1FVUagGFU"
      },
      "outputs": [],
      "source": [
        "# imports\n",
        "from matplotlib import pyplot as plt\n",
        "from firebase_admin import storage\n",
        "\n",
        "# method to generate gantt chart\n",
        "def generateGanttChart(ganttChart: list) -> None:\n",
        "  # create a figure and a set of subplots\n",
        "  fig, gnt = plt.subplots()\n",
        "\n",
        "  # set x-axis limit from 0 to the last entry of gantt chart\n",
        "  gnt.set_xlim(0, ganttChart[(len(ganttChart) - 1)]['Exit Time'] + 1)\n",
        "  # set y-axis limit to 1 because the chart is one line only\n",
        "  gnt.set_ylim(0, 1)\n",
        "\n",
        "  # set labels for both the axis\n",
        "  gnt.set_xlabel('Time')\n",
        "  gnt.set_ylabel('Process ID')\n",
        "\n",
        "  # set y ticks and set labels = '' because there is no need to display it\n",
        "  gnt.set_yticks([10, 20])\n",
        "  gnt.set_yticklabels(['', ''])\n",
        "\n",
        "  # the chart alternates between green and blue color\n",
        "  # _isGreen flag is used to determine the color of broken_barh [broken bar horizontal]\n",
        "  _isGreen = True\n",
        "  for gantt in ganttChart:\n",
        "    # _isGreen alternates between true and false\n",
        "    _isGreen = not _isGreen\n",
        "    # if true draw with green color else draw with blue\n",
        "    if(_isGreen):\n",
        "      # draw the broken_barh(start_time, duration_time)\n",
        "      gnt.broken_barh([(gantt['Start Time'], (gantt['Exit Time'] - gantt['Start Time']))], (8, 4), facecolors=('tab:green'))\n",
        "    else:\n",
        "      # draw the broken_barh(start_time, duration_time)\n",
        "      gnt.broken_barh([(gantt['Start Time'], (gantt['Exit Time'] - gantt['Start Time']))], (8, 4))\n",
        "    # annotate the chart with the process' ID\n",
        "    gnt.annotate(gantt['Process ID'], (gantt['Start Time'] + 0.2, 9.7))\n",
        "\n",
        "  # save the output file\n",
        "  plt.savefig('output/ganttChart.png')\n",
        "  fileName = 'output/ganttChart.png'\n",
        "  # print('Gantt Chart generated at: ' + fileName)\n",
        "\n",
        "  # initialize the storage folder / bucket\n",
        "  bucket = storage.bucket()\n",
        "  # initialize the image blob\n",
        "  blob = bucket.blob(fileName)\n",
        "  # upload the image blob to firebase\n",
        "  blob.upload_from_filename(fileName)\n",
        "\n",
        "# method to generate output table\n",
        "def generateOutput(outputProcesses: list, avgWT: int, avgTAT: int) -> None:\n",
        "  # initializing a list of column lables\n",
        "  columnLables = [\n",
        "    'Process ID',\n",
        "    'Arrival Time',\n",
        "    'Burst Time',\n",
        "    'Waiting Time',\n",
        "    'Completion Time',\n",
        "    'Turn Around Time',\n",
        "    'Response Time'\n",
        "  ]\n",
        "\n",
        "  # making a list of each row(as list) from output \n",
        "  values = [[outputProcesses[i]['Process ID'], outputProcesses[i]['Arrival Time'], outputProcesses[i]['Burst Time'], outputProcesses[i]['Waiting Time'], outputProcesses[i]['Completion Time'], outputProcesses[i]['Turn Around Time'], outputProcesses[i]['Response Time']]for i in range(0, len(outputProcesses))]\n",
        "\n",
        "  # set size and layout of output figure\n",
        "  plt.rcParams[\"figure.figsize\"] = [11.0, 3.0]\n",
        "  plt.rcParams[\"figure.autolayout\"] = True\n",
        "  # create a figure and a set of subplots\n",
        "  fig, table = plt.subplots()\n",
        "  \n",
        "  # turn off x and y axis\n",
        "  table.set_axis_off()\n",
        "  # enter the data into the table\n",
        "  # cellText = values and colLabels = columnLabels with location center\n",
        "  outputTable = table.table(cellText=values, colLabels=columnLables, cellLoc='center', loc='center')\n",
        "  # scale the output image\n",
        "  outputTable.scale(1.5, 1.5)\n",
        "  # print 'Average Waiting Time' and 'Average Turn Around Time' in the image\n",
        "  table.set_title('Average Waiting Time = ' + str(avgWT) + '\\nAverage Turn Around Time = ' + str(avgTAT))\n",
        "\n",
        "  # save the output file\n",
        "  plt.savefig('output/outputTable.png')\n",
        "  fileName = 'output/outputTable.png'\n",
        "  # print('Output Table generated at: ' + fileName)\n",
        "\n",
        "  # initialize the storage folder / bucket\n",
        "  bucket = storage.bucket()\n",
        "  # initialize the image blob\n",
        "  blob = bucket.blob(fileName)\n",
        "  # upload the image blob to firebase\n",
        "  blob.upload_from_filename(fileName)\n"
      ]
    },
    {
      "cell_type": "markdown",
      "metadata": {
        "id": "KPQOwCOy0ffr"
      },
      "source": [
        "## Shortest Job First"
      ]
    },
    {
      "cell_type": "code",
      "execution_count": null,
      "metadata": {
        "id": "KFp-OkvDgU9S"
      },
      "outputs": [],
      "source": [
        "#Function to derive average waiting time\n",
        "#Time Complexity: O(n)\n",
        "def avgWaitingTime(n, process) -> float:\n",
        "  total_waiting_time=0\n",
        "  for i in range (0, n):\n",
        "    total_waiting_time=total_waiting_time + process[i]['Waiting Time']\n",
        "  \n",
        "  print(\"Average waiting time is \", (total_waiting_time/n))\n",
        "  return (total_waiting_time/n)\n",
        "\n",
        "#Function to derive average turn around time\n",
        "#Time Complexity: O(n)\n",
        "def avgTurnAroundTime(n, process) -> float:\n",
        "  total_turnaround_time=0\n",
        "  for i in range (0, n):\n",
        "    total_turnaround_time=total_turnaround_time + process[i]['Turn Around Time']\n",
        "  \n",
        "  print(\"Average turn around time is \", (total_turnaround_time/n))\n",
        "  return (total_turnaround_time/n)\n",
        "\n",
        "#Function to sort all input process values according to arrival time\n",
        "#Algorithm used: Bubble Sort \n",
        "#Time Complexity: O(n^2)\n",
        "  #reason: \n",
        "    # - need to sort all dictionary values in the list according to one specific field (arrival time)\n",
        "    # - other sorting algorithms (quick sort, merge sort) use recursion, divide and conquer methods which are difficult to implement in such cases\n",
        "    # - time complexity for SJF algorithm comes down to O(n^2) so bubble sort will not increase the worst case time complexity\n",
        "def arrangeArrival(n, process):\n",
        "    for i in range(0, n):\n",
        "        for j in range(i, n - i - 1):\n",
        "            if process[j]['Arrival Time'] > process[j + 1]['Arrival Time']:\n",
        "                process[j]['Arrival Time'], process[j + 1]['Arrival Time'] = process[j + 1]['Arrival Time'], process[j][\n",
        "                    'Arrival Time']\n",
        "                process[j]['Process ID'], process[j + 1]['Process ID'] = process[j + 1]['Process ID'], process[j][\n",
        "                    'Process ID']\n",
        "                process[j]['Burst Time'], process[j + 1]['Burst Time'] = process[j + 1]['Burst Time'], process[j][\n",
        "                    'Burst Time']\n",
        "\n",
        "#Algorithm to find Completion time, Turn around time and waiting time for each process\n",
        "#Time Complexity : O(n^2)\n",
        "\n",
        "def CompletionTime(n, process):\n",
        "    value = 0\n",
        "    process[0]['Completion Time'] = process[0]['Arrival Time'] + process[0]['Burst Time']\n",
        "    process[0]['Turn Around Time'] = process[0]['Completion Time'] - process[0]['Arrival Time']\n",
        "    process[0]['Waiting Time'] = process[0]['Turn Around Time'] - process[0]['Burst Time']\n",
        "    for i in range(1, n):\n",
        "        temp = process[i - 1]['Completion Time']\n",
        "        mini = process[i]['Burst Time']\n",
        "        for j in range(i, n):\n",
        "            if temp >= process[j]['Arrival Time'] and mini >= process[j]['Burst Time']:\n",
        "                mini = process[j]['Burst Time']\n",
        "                value = j\n",
        "\n",
        "        process[value]['Completion Time'] = temp + process[value]['Burst Time']\n",
        "        process[value]['Turn Around Time'] = process[value]['Completion Time'] - process[value]['Arrival Time']\n",
        "        process[value]['Waiting Time'] = process[value]['Turn Around Time'] - process[value]['Burst Time']\n",
        "\n",
        "\n",
        "        process[value]['Process ID'], process[i]['Process ID'] = process[i]['Process ID'], process[value]['Process ID']\n",
        "        process[value]['Burst Time'], process[i]['Burst Time'] = process[i]['Burst Time'], process[value]['Burst Time']\n",
        "        process[value]['Arrival Time'], process[i]['Arrival Time'] = process[i]['Arrival Time'], process[value]['Arrival Time']\n",
        "        process[value]['Waiting Time'], process[i]['Waiting Time'] = process[i]['Waiting Time'], process[value]['Waiting Time']\n",
        "        process[value]['Turn Around Time'], process[i]['Turn Around Time'] = process[i]['Turn Around Time'], process[value]['Turn Around Time']\n",
        "        process[value]['Completion Time'], process[i]['Completion Time'] = process[i]['Completion Time'], process[value][\n",
        "        'Completion Time']\n",
        "\n",
        "        \n",
        "\n",
        "\n",
        "#Function to display all values in output\n",
        "#Time Complexity: O(n)\n",
        "def display(process):\n",
        "    \n",
        "    print(\n",
        "        'Process\\t Arrival Time\\t Burst Time\\t Waiting Time\\t Turn Around Time\\t completion Time'\n",
        "    )\n",
        "    for i in range(len(process)):\n",
        "        print('{}\\t {}\\t\\t {}\\t\\t {}\\t\\t {}\\t\\t\\t {}'.format(process[i]['Process ID'],\n",
        "                                                             process[i]['Arrival Time'],\n",
        "                                                             process[i]['Burst Time'],\n",
        "                                                             process[i]['Waiting Time'],\n",
        "                                                             process[i]['Turn Around Time'],\n",
        "                                                             process[i]['Completion Time']))\n",
        "\n",
        "def main(inputProcesses):\n",
        "  ganttChart = []\n",
        "  for process in inputProcesses:\n",
        "    process['Completion Time'] = 0\n",
        "    process['Turn Around Time'] = 0\n",
        "    process['Waiting Time'] = 0\n",
        "  # simulation\n",
        "  arrangeArrival(len(inputProcesses), inputProcesses)\n",
        "  CompletionTime(len(inputProcesses), inputProcesses)\n",
        "  display(inputProcesses)\n",
        "\n",
        "  ganttChart.append({'Process ID': inputProcesses[0]['Process ID'], 'Start Time': inputProcesses[0]['Arrival Time'], 'Exit Time': inputProcesses[0]['Completion Time']})\n",
        "  for i in range(1, len(inputProcesses)):\n",
        "      ganttChart.append({'Process ID': inputProcesses[i]['Process ID'], 'Start Time': inputProcesses[i-1]['Completion Time'], 'Exit Time': inputProcesses[i-1]['Completion Time'] + inputProcesses[i]['Completion Time']})\n",
        "  for process in inputProcesses:\n",
        "      process['Response Time'] = process['Waiting Time']\n",
        "\n",
        "  generateGanttChart(ganttChart)\n",
        "  generateOutput(outputProcesses = inputProcesses, avgWT = avgWaitingTime(len(inputProcesses), inputProcesses), avgTAT = avgTurnAroundTime(len(inputProcesses), inputProcesses))\n"
      ]
    },
    {
      "cell_type": "markdown",
      "metadata": {
        "id": "WOCWZC-Plq-4"
      },
      "source": [
        "## Get input from firebase"
      ]
    },
    {
      "cell_type": "code",
      "execution_count": null,
      "metadata": {
        "colab": {
          "base_uri": "https://localhost:8080/"
        },
        "id": "Han2h2HaajfO",
        "outputId": "4487e3c0-7170-41e2-e959-f799df1584ec"
      },
      "outputs": [],
      "source": [
        "# imports\n",
        "import threading\n",
        "import time\n",
        "\n",
        "# Create an Event for notifying main thread.\n",
        "callback_done = threading.Event()\n",
        "\n",
        "# Create a callback on_snapshot function to capture changes\n",
        "def on_snapshot(doc_snapshot, changes, read_time):\n",
        "  for change in changes:\n",
        "  # Check for a change in document\n",
        "    if change.type.name == 'MODIFIED':\n",
        "    # print(u'Change: {}'.format(change.document.id))\n",
        "    # iterate through each document snapshot\n",
        "      for doc in doc_snapshot:\n",
        "        print(f'Received new document snapshot: {doc.id}')\n",
        "        # initialize the input processes\n",
        "        input = doc.to_dict()\n",
        "        inputProcesses = input['Processes']\n",
        "        print(inputProcesses)\n",
        "        # dict containing the processes, gantt chart, average waiting time and average turn around time\n",
        "        \n",
        "        main(inputProcesses)\n",
        "\n",
        "    # return the control to document watch\n",
        "    callback_done.set()\n",
        "\n",
        "# Watch the document\n",
        "doc_watch = doc_ref.on_snapshot(on_snapshot)\n",
        "\n",
        "# Keep the app running\n",
        "while True:\n",
        "    time.sleep(1)\n",
        "    # print('watching')\n"
      ]
    }
  ],
  "metadata": {
    "colab": {
      "collapsed_sections": [],
      "name": "SJF.ipynb",
      "provenance": []
    },
    "kernelspec": {
      "display_name": "Python 3",
      "name": "python3"
    },
    "language_info": {
      "codemirror_mode": {
        "name": "ipython",
        "version": 3
      },
      "file_extension": ".py",
      "mimetype": "text/x-python",
      "name": "python",
      "nbconvert_exporter": "python",
      "pygments_lexer": "ipython3",
      "version": "3.10.2"
    }
  },
  "nbformat": 4,
  "nbformat_minor": 0
}
