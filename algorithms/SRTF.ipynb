{
  "cells": [
    {
      "cell_type": "markdown",
      "metadata": {},
      "source": [
        "# Shortest Remaining Time Next"
      ]
    },
    {
      "cell_type": "markdown",
      "metadata": {
        "id": "yEkDUVrwlcln"
      },
      "source": [
        "## Setting up firebase"
      ]
    },
    {
      "cell_type": "code",
      "execution_count": 10,
      "metadata": {
        "id": "6NNbtfjZalqL"
      },
      "outputs": [
        {
          "ename": "ValueError",
          "evalue": "The default Firebase app already exists. This means you called initialize_app() more than once without providing an app name as the second argument. In most cases you only need to call initialize_app() once. But if you do want to initialize multiple apps, pass a second argument to initialize_app() to give each app a unique name.",
          "output_type": "error",
          "traceback": [
            "\u001b[0;31m---------------------------------------------------------------------------\u001b[0m",
            "\u001b[0;31mValueError\u001b[0m                                Traceback (most recent call last)",
            "\u001b[1;32m/mnt/d5cdd861-a412-4a6b-a274-74e78d5cdcab/OS/OperatingSystemsProject/algorithms/SRTF.ipynb Cell 3'\u001b[0m in \u001b[0;36m<module>\u001b[0;34m\u001b[0m\n\u001b[1;32m      <a href='vscode-notebook-cell:/mnt/d5cdd861-a412-4a6b-a274-74e78d5cdcab/OS/OperatingSystemsProject/algorithms/SRTF.ipynb#ch0000002?line=5'>6</a>\u001b[0m cred \u001b[39m=\u001b[39m credentials\u001b[39m.\u001b[39mCertificate(\u001b[39m'\u001b[39m\u001b[39mjaynakum-experiments-88cc723f2db9.json\u001b[39m\u001b[39m'\u001b[39m)\n\u001b[1;32m      <a href='vscode-notebook-cell:/mnt/d5cdd861-a412-4a6b-a274-74e78d5cdcab/OS/OperatingSystemsProject/algorithms/SRTF.ipynb#ch0000002?line=6'>7</a>\u001b[0m \u001b[39m# using the credentials initialize the firebase app\u001b[39;00m\n\u001b[0;32m----> <a href='vscode-notebook-cell:/mnt/d5cdd861-a412-4a6b-a274-74e78d5cdcab/OS/OperatingSystemsProject/algorithms/SRTF.ipynb#ch0000002?line=7'>8</a>\u001b[0m default_app \u001b[39m=\u001b[39m firebase_admin\u001b[39m.\u001b[39;49minitialize_app(cred, {\u001b[39m'\u001b[39;49m\u001b[39mstorageBucket\u001b[39;49m\u001b[39m'\u001b[39;49m: \u001b[39m'\u001b[39;49m\u001b[39mjaynakum-experiments.appspot.com\u001b[39;49m\u001b[39m'\u001b[39;49m})\n\u001b[1;32m      <a href='vscode-notebook-cell:/mnt/d5cdd861-a412-4a6b-a274-74e78d5cdcab/OS/OperatingSystemsProject/algorithms/SRTF.ipynb#ch0000002?line=8'>9</a>\u001b[0m \u001b[39m# initialize the database\u001b[39;00m\n\u001b[1;32m     <a href='vscode-notebook-cell:/mnt/d5cdd861-a412-4a6b-a274-74e78d5cdcab/OS/OperatingSystemsProject/algorithms/SRTF.ipynb#ch0000002?line=9'>10</a>\u001b[0m db \u001b[39m=\u001b[39m firestore\u001b[39m.\u001b[39mclient()\n",
            "File \u001b[0;32m~/.local/lib/python3.10/site-packages/firebase_admin/__init__.py:71\u001b[0m, in \u001b[0;36minitialize_app\u001b[0;34m(credential, options, name)\u001b[0m\n\u001b[1;32m     <a href='file:///home/jaynakum/.local/lib/python3.10/site-packages/firebase_admin/__init__.py?line=67'>68</a>\u001b[0m         \u001b[39mreturn\u001b[39;00m app\n\u001b[1;32m     <a href='file:///home/jaynakum/.local/lib/python3.10/site-packages/firebase_admin/__init__.py?line=69'>70</a>\u001b[0m \u001b[39mif\u001b[39;00m name \u001b[39m==\u001b[39m _DEFAULT_APP_NAME:\n\u001b[0;32m---> <a href='file:///home/jaynakum/.local/lib/python3.10/site-packages/firebase_admin/__init__.py?line=70'>71</a>\u001b[0m     \u001b[39mraise\u001b[39;00m \u001b[39mValueError\u001b[39;00m((\n\u001b[1;32m     <a href='file:///home/jaynakum/.local/lib/python3.10/site-packages/firebase_admin/__init__.py?line=71'>72</a>\u001b[0m         \u001b[39m'\u001b[39m\u001b[39mThe default Firebase app already exists. This means you called \u001b[39m\u001b[39m'\u001b[39m\n\u001b[1;32m     <a href='file:///home/jaynakum/.local/lib/python3.10/site-packages/firebase_admin/__init__.py?line=72'>73</a>\u001b[0m         \u001b[39m'\u001b[39m\u001b[39minitialize_app() more than once without providing an app name as \u001b[39m\u001b[39m'\u001b[39m\n\u001b[1;32m     <a href='file:///home/jaynakum/.local/lib/python3.10/site-packages/firebase_admin/__init__.py?line=73'>74</a>\u001b[0m         \u001b[39m'\u001b[39m\u001b[39mthe second argument. In most cases you only need to call \u001b[39m\u001b[39m'\u001b[39m\n\u001b[1;32m     <a href='file:///home/jaynakum/.local/lib/python3.10/site-packages/firebase_admin/__init__.py?line=74'>75</a>\u001b[0m         \u001b[39m'\u001b[39m\u001b[39minitialize_app() once. But if you do want to initialize multiple \u001b[39m\u001b[39m'\u001b[39m\n\u001b[1;32m     <a href='file:///home/jaynakum/.local/lib/python3.10/site-packages/firebase_admin/__init__.py?line=75'>76</a>\u001b[0m         \u001b[39m'\u001b[39m\u001b[39mapps, pass a second argument to initialize_app() to give each app \u001b[39m\u001b[39m'\u001b[39m\n\u001b[1;32m     <a href='file:///home/jaynakum/.local/lib/python3.10/site-packages/firebase_admin/__init__.py?line=76'>77</a>\u001b[0m         \u001b[39m'\u001b[39m\u001b[39ma unique name.\u001b[39m\u001b[39m'\u001b[39m))\n\u001b[1;32m     <a href='file:///home/jaynakum/.local/lib/python3.10/site-packages/firebase_admin/__init__.py?line=78'>79</a>\u001b[0m \u001b[39mraise\u001b[39;00m \u001b[39mValueError\u001b[39;00m((\n\u001b[1;32m     <a href='file:///home/jaynakum/.local/lib/python3.10/site-packages/firebase_admin/__init__.py?line=79'>80</a>\u001b[0m     \u001b[39m'\u001b[39m\u001b[39mFirebase app named \u001b[39m\u001b[39m\"\u001b[39m\u001b[39m{0}\u001b[39;00m\u001b[39m\"\u001b[39m\u001b[39m already exists. This means you called \u001b[39m\u001b[39m'\u001b[39m\n\u001b[1;32m     <a href='file:///home/jaynakum/.local/lib/python3.10/site-packages/firebase_admin/__init__.py?line=80'>81</a>\u001b[0m     \u001b[39m'\u001b[39m\u001b[39minitialize_app() more than once with the same app name as the \u001b[39m\u001b[39m'\u001b[39m\n\u001b[1;32m     <a href='file:///home/jaynakum/.local/lib/python3.10/site-packages/firebase_admin/__init__.py?line=81'>82</a>\u001b[0m     \u001b[39m'\u001b[39m\u001b[39msecond argument. Make sure you provide a unique name every time \u001b[39m\u001b[39m'\u001b[39m\n\u001b[1;32m     <a href='file:///home/jaynakum/.local/lib/python3.10/site-packages/firebase_admin/__init__.py?line=82'>83</a>\u001b[0m     \u001b[39m'\u001b[39m\u001b[39myou call initialize_app().\u001b[39m\u001b[39m'\u001b[39m)\u001b[39m.\u001b[39mformat(name))\n",
            "\u001b[0;31mValueError\u001b[0m: The default Firebase app already exists. This means you called initialize_app() more than once without providing an app name as the second argument. In most cases you only need to call initialize_app() once. But if you do want to initialize multiple apps, pass a second argument to initialize_app() to give each app a unique name."
          ]
        }
      ],
      "source": [
        "# imports\n",
        "import firebase_admin\n",
        "from firebase_admin import credentials, firestore\n",
        "\n",
        "# get the credential certificate from json file\n",
        "cred = credentials.Certificate('jaynakum-experiments-88cc723f2db9.json')\n",
        "# using the credentials initialize the firebase app\n",
        "default_app = firebase_admin.initialize_app(cred, {'storageBucket': 'jaynakum-experiments.appspot.com'})\n",
        "# initialize the database\n",
        "db = firestore.client()\n",
        "\n",
        "# initialize the main document reference\n",
        "doc_ref = db.collection(u'CPU Scheduling')\n"
      ]
    },
    {
      "cell_type": "markdown",
      "metadata": {
        "id": "3y3mL9uM0Vyp"
      },
      "source": [
        "## Generate gantt chart and output table"
      ]
    },
    {
      "cell_type": "code",
      "execution_count": null,
      "metadata": {
        "id": "P4J1FVUagGFU"
      },
      "outputs": [],
      "source": [
        "# imports\n",
        "from matplotlib import pyplot as plt\n",
        "from firebase_admin import storage\n",
        "\n",
        "# method to generate gantt chart\n",
        "def generateGanttChart(ganttChart: list) -> None:\n",
        "  # create a figure and a set of subplots\n",
        "  fig, gnt = plt.subplots()\n",
        "\n",
        "  # set x-axis limit from 0 to the last entry of gantt chart\n",
        "  gnt.set_xlim(0, ganttChart[(len(ganttChart) - 1)]['Exit Time'] + 1)\n",
        "  # set y-axis limit to 1 because the chart is one line only\n",
        "  gnt.set_ylim(0, 1)\n",
        "\n",
        "  # set labels for both the axis\n",
        "  gnt.set_xlabel('Time')\n",
        "  gnt.set_ylabel('Process ID')\n",
        "\n",
        "  # set y ticks and set labels = '' because there is no need to display it\n",
        "  gnt.set_yticks([10, 20])\n",
        "  gnt.set_yticklabels(['', ''])\n",
        "\n",
        "  # the chart alternates between green and blue color\n",
        "  # _isGreen flag is used to determine the color of broken_barh [broken bar horizontal]\n",
        "  _isGreen = True\n",
        "  for gantt in ganttChart:\n",
        "    # _isGreen alternates between true and false\n",
        "    _isGreen = not _isGreen\n",
        "    # if true draw with green color else draw with blue\n",
        "    if(_isGreen):\n",
        "      # draw the broken_barh(start_time, duration_time)\n",
        "      gnt.broken_barh([(gantt['Start Time'], (gantt['Exit Time'] - gantt['Start Time']))], (8, 4), facecolors=('tab:green'))\n",
        "    else:\n",
        "      # draw the broken_barh(start_time, duration_time)\n",
        "      gnt.broken_barh([(gantt['Start Time'], (gantt['Exit Time'] - gantt['Start Time']))], (8, 4))\n",
        "    # annotate the chart with the process' ID\n",
        "    gnt.annotate(gantt['Process ID'], (gantt['Start Time'] + 0.2, 9.7))\n",
        "\n",
        "  # save the output file\n",
        "  plt.savefig('output/ganttChart.png')\n",
        "  fileName = 'output/ganttChart.png'\n",
        "  # print('Gantt Chart generated at: ' + fileName)\n",
        "\n",
        "  # initialize the storage folder / bucket\n",
        "  bucket = storage.bucket()\n",
        "  # initialize the image blob\n",
        "  blob = bucket.blob(fileName)\n",
        "  # upload the image blob to firebase\n",
        "  blob.upload_from_filename(fileName)\n",
        "\n",
        "# method to generate output table\n",
        "def generateOutput(outputProcesses: list, avgWT: int, avgTAT: int) -> None:\n",
        "  # initializing a list of column lables\n",
        "  columnLables = [\n",
        "    'Process ID',\n",
        "    'Arrival Time',\n",
        "    'Burst Time',\n",
        "    'Waiting Time',\n",
        "    'Completion Time',\n",
        "    'Turn Around Time',\n",
        "    'Response Time'\n",
        "  ]\n",
        "\n",
        "  # making a list of each row(as list) from output \n",
        "  values = [[outputProcesses[i]['Process ID'], outputProcesses[i]['Arrival Time'], outputProcesses[i]['Burst Time'], outputProcesses[i]['Waiting Time'], outputProcesses[i]['Completion Time'], outputProcesses[i]['Turn Around Time'], outputProcesses[i]['Response Time']]for i in range(0, len(outputProcesses))]\n",
        "\n",
        "  # set size and layout of output figure\n",
        "  plt.rcParams[\"figure.figsize\"] = [11.0, 3.0]\n",
        "  plt.rcParams[\"figure.autolayout\"] = True\n",
        "  # create a figure and a set of subplots\n",
        "  fig, table = plt.subplots()\n",
        "  \n",
        "  # turn off x and y axis\n",
        "  table.set_axis_off()\n",
        "  # enter the data into the table\n",
        "  # cellText = values and colLabels = columnLabels with location center\n",
        "  outputTable = table.table(cellText=values, colLabels=columnLables, cellLoc='center', loc='center')\n",
        "  # scale the output image\n",
        "  outputTable.scale(1.5, 1.5)\n",
        "  # print 'Average Waiting Time' and 'Average Turn Around Time' in the image\n",
        "  table.set_title('Average Waiting Time = ' + str(avgWT) + '\\nAverage Turn Around Time = ' + str(avgTAT))\n",
        "\n",
        "  # save the output file\n",
        "  plt.savefig('output/outputTable.png')\n",
        "  fileName = 'output/outputTable.png'\n",
        "  # print('Output Table generated at: ' + fileName)\n",
        "\n",
        "  # initialize the storage folder / bucket\n",
        "  bucket = storage.bucket()\n",
        "  # initialize the image blob\n",
        "  blob = bucket.blob(fileName)\n",
        "  # upload the image blob to firebase\n",
        "  blob.upload_from_filename(fileName)\n"
      ]
    },
    {
      "cell_type": "markdown",
      "metadata": {
        "id": "KPQOwCOy0ffr"
      },
      "source": [
        "## Shortest Remaining Time First"
      ]
    },
    {
      "cell_type": "code",
      "execution_count": null,
      "metadata": {
        "id": "KFp-OkvDgU9S"
      },
      "outputs": [
        {
          "name": "stdout",
          "output_type": "stream",
          "text": [
            "[1, 2, 3, 3, 4, 6, 6, 2, 2, 2, 5, 5, 5, 1, 1, 1, 1, 1, 1, 1]\n",
            "Process\t Arrival Time\t Burst Time\t Waiting Time\t Turn Around Time\t completion Time\t Response Time\n",
            "1\t 0\t\t 8\t\t 12\t\t 20\t\t\t 20\n",
            "2\t 1\t\t 4\t\t 5\t\t 9\t\t\t 10\n",
            "3\t 2\t\t 2\t\t 0\t\t 2\t\t\t 4\n",
            "4\t 3\t\t 1\t\t 1\t\t 2\t\t\t 5\n",
            "5\t 4\t\t 3\t\t 6\t\t 9\t\t\t 13\n",
            "6\t 5\t\t 2\t\t 0\t\t 2\t\t\t 7\n",
            "\n",
            "Average Waiting Time:  4.0\n",
            "Average Turn Around:  7.333333333333333\n",
            "\n",
            " [{'Process ID': 1, 'Arrival Time': 0, 'Burst Time': 8, 'Completion Time': 20, 'Turn Around Time': 20, 'Waiting Time': 12, 'Response Time': 0}, {'Process ID': 2, 'Arrival Time': 1, 'Burst Time': 4, 'Completion Time': 10, 'Turn Around Time': 9, 'Waiting Time': 5, 'Response Time': 1}, {'Process ID': 3, 'Arrival Time': 2, 'Burst Time': 2, 'Completion Time': 4, 'Turn Around Time': 2, 'Waiting Time': 0, 'Response Time': 2}, {'Process ID': 4, 'Arrival Time': 3, 'Burst Time': 1, 'Completion Time': 5, 'Turn Around Time': 2, 'Waiting Time': 1, 'Response Time': 3}, {'Process ID': 5, 'Arrival Time': 4, 'Burst Time': 3, 'Completion Time': 13, 'Turn Around Time': 9, 'Waiting Time': 6, 'Response Time': 4}, {'Process ID': 6, 'Arrival Time': 5, 'Burst Time': 2, 'Completion Time': 7, 'Turn Around Time': 2, 'Waiting Time': 0, 'Response Time': 5}]\n"
          ]
        },
        {
          "data": {
            "image/png": "[encoded data removed]",
            "text/plain": [
              "<Figure size 432x288 with 1 Axes>"
            ]
          },
          "metadata": {
            "needs_background": "light"
          },
          "output_type": "display_data"
        },
        {
          "data": {
            "image/png": "[encoded data removed]",
            "text/plain": [
              "<Figure size 792x216 with 1 Axes>"
            ]
          },
          "metadata": {
            "needs_background": "light"
          },
          "output_type": "display_data"
        }
      ],
      "source": [
        "# simulation of Shortest Time Remaining First algorithm\n",
        "\n",
        "# add the values to gantt chart\n",
        "def generateChart(rawGanttChart: list) -> list:\n",
        "    gtTime = 0\n",
        "    ganttChart = []\n",
        "    gantt = {'Process ID': rawGanttChart[0], 'Start Time':gtTime, 'Exit Time': gtTime + 1} # where Start time  = gtTime and Exit time  = gtTime + 1\n",
        "    ganttChart.append(gantt) \n",
        "    gt = 0\n",
        "    gtTime += 1\n",
        "    \n",
        "    for g in range(1, len(rawGanttChart)):\n",
        "        if rawGanttChart[g] == ganttChart[gt]['Process ID']:\n",
        "            ganttChart[gt]['Exit Time'] += 1\n",
        "        else:\n",
        "            ganttChart.append({'Process ID': rawGanttChart[g], 'Start Time': gtTime, 'Exit Time': gtTime + 1})\n",
        "            gt += 1\n",
        "        gtTime += 1\n",
        "    \n",
        "    return ganttChart\n",
        "\n",
        "# method to calculate TAT, WT and average of TAT and WT\n",
        "def waitingTime(process, wt):\n",
        "    n = len(process)\n",
        "    rt = [0] * n\n",
        "    rawGanttChart = []\n",
        "\n",
        "    # Copy the burst time into rt[]\n",
        "    for i in range(0, n):\n",
        "        rt[i] = process[i]['Burst Time']\n",
        "\n",
        "    complete = 0\n",
        "    short = 0\n",
        "    current_time = 0\n",
        "    min_time = 999999999\n",
        "    flag = False\n",
        "    # Process until all processes gets\n",
        "    # completed\n",
        "    while (complete != n):\n",
        "          # Find process with minimum remaining  time among the processes that arrives till the current time`\n",
        "        for i in range(n):\n",
        "            if process[i]['Arrival Time'] <= current_time and rt[i] < min_time and rt[i] > 0:\n",
        "                min_time = rt[i]\n",
        "                short = i\n",
        "                flag = True\n",
        "\n",
        "        if flag == False:\n",
        "            current_time += 1\n",
        "            continue\n",
        "\n",
        "        rawGanttChart.append(process[short]['Process ID'])\n",
        "        \n",
        "        # Reduce remaining time by one\n",
        "        rt[short] -= 1\n",
        "        min_time = rt[short]\n",
        "\n",
        "\n",
        "        # Update minimum\n",
        "        if (min_time == 0):\n",
        "            min_time = 99999999\n",
        "            \n",
        "        # If a process gets completely\n",
        "                # executed\n",
        "        if rt[short] == 0:\n",
        "            complete += 1\n",
        "            flag = False\n",
        "            completion_time = current_time + 1\n",
        "            # calculating Waiting time\n",
        "            wt[short] = completion_time - process[short]['Arrival Time'] - process[short]['Burst Time']\n",
        "            # wt = tat-bt or  (ct-at)-bt\n",
        "\n",
        "            if wt[short] < 0:\n",
        "                wt[short] = 0\n",
        "\n",
        "        current_time += 1\n",
        "    # completion time For Each Process\n",
        "    print(rawGanttChart)\n",
        "    ganttChart = generateChart(rawGanttChart)\n",
        "    generateGanttChart(ganttChart)\n",
        "    for gantt in ganttChart:\n",
        "        for p in process:\n",
        "            if p['Process ID'] == gantt['Process ID']:\n",
        "                p['Completion Time'] = gantt['Exit Time']\n",
        "            # note the 'Response Time' of each process\n",
        "            if 'Response Time' in p.keys():\n",
        "                pass\n",
        "            else:\n",
        "                p['Response Time'] = (p['Arrival Time'])\n",
        "    # print(process)\n",
        "    \n",
        "    # note the 'Response Time' of each process\n",
        "    \n",
        "# Function to calculate turn around time\n",
        "def turnAroundtime(process, wt, tat):\n",
        "# Calculating turnaround time\n",
        "    for i in range(len(process)):\n",
        "        tat[i] = process[i]['Burst Time'] + wt[i]\n",
        "\n",
        "# Function to calculate average waiting and turn-around times.\n",
        "def avgTime(process):\n",
        "    n = len(process)\n",
        "    wt = [0] * n\n",
        "    tat = [0] * n\n",
        "    total_wt = 0\n",
        "    total_tat = 0\n",
        "\n",
        "    waitingTime(process, wt) # Function to find waiting time of all processes\n",
        "    turnAroundtime(process, wt, tat)# Function to find turn around time for all processes\n",
        "\n",
        "    for i in range(n):\n",
        "        total_wt = total_wt + wt[i]\n",
        "        total_tat = total_tat + tat[i]\n",
        "\n",
        "    avg_wt = total_wt / n\n",
        "    avg_tat = total_tat / n\n",
        "\n",
        "    display(process, wt, tat, avg_wt, avg_tat)\n",
        "\n",
        "# Time Complexity of Algorithm is O(n^2)\n",
        "def display(process, wt, tat, avg_wt, avg_tat):\n",
        "    print(\n",
        "        'Process\\t Arrival Time\\t Burst Time\\t Waiting Time\\t Turn Around Time\\t completion Time\\t Response Time'\n",
        "    )\n",
        "#  Display processes along with all details in table\n",
        "    for i in range(len(process)):\n",
        "        print('{}\\t {}\\t\\t {}\\t\\t {}\\t\\t {}\\t\\t\\t {}'.format(process[i]['Process ID'],\n",
        "                                                    process[i]['Arrival Time'],\n",
        "                                                    process[i]['Burst Time'],\n",
        "                                                    wt[i], tat[i],\n",
        "                                                    process[i]['Completion Time'], process[i]['Response Time']))\n",
        "\n",
        "    print('\\nAverage Waiting Time: ', avg_wt)\n",
        "    print('Average Turn Around: ', avg_tat)\n",
        "    output = []\n",
        "#  Display processes along with all details in dict\n",
        "    for i in range(len(process)):\n",
        "        output.append({\n",
        "            'Process ID': process[i]['Process ID'],\n",
        "            'Arrival Time': process[i]['Arrival Time'],\n",
        "            'Burst Time': process[i]['Burst Time'],\n",
        "            'Completion Time': process[i]['Completion Time'],\n",
        "            'Turn Around Time': tat[i],\n",
        "            'Waiting Time': wt[i],\n",
        "            'Response Time': process[i]['Response Time']\n",
        "        })\n",
        "    output.sort(key=lambda process: process['Arrival Time'])\n",
        "\n",
        "    print('\\n', output)\n",
        "    generateOutput(output, avgWT= avg_wt, avgTAT= avg_tat)\n"
      ]
    },
    {
      "cell_type": "markdown",
      "metadata": {
        "id": "WOCWZC-Plq-4"
      },
      "source": [
        "## Get input from firebase"
      ]
    },
    {
      "cell_type": "code",
      "execution_count": null,
      "metadata": {
        "colab": {
          "base_uri": "https://localhost:8080/",
          "height": 750
        },
        "id": "Han2h2HaajfO",
        "outputId": "6419f85b-f056-47a9-a7f8-0bc79ea936a0"
      },
      "outputs": [
        {
          "name": "stdout",
          "output_type": "stream",
          "text": [
            "Received new document snapshot: First Come First Serve\n",
            "[{'Process ID': 0, 'Burst Time': 1, 'Arrival Time': 0}, {'Burst Time': 5, 'Arrival Time': 2, 'Process ID': 1}, {'Process ID': 2, 'Arrival Time': 3, 'Burst Time': 5}]\n"
          ]
        },
        {
          "ename": "KeyboardInterrupt",
          "evalue": "ignored",
          "output_type": "error",
          "traceback": [
            "\u001b[0;31m---------------------------------------------------------------------------\u001b[0m",
            "\u001b[0;31mKeyboardInterrupt\u001b[0m                         Traceback (most recent call last)",
            "\u001b[0;32m<ipython-input-5-cf589ca92c89>\u001b[0m in \u001b[0;36m<module>\u001b[0;34m()\u001b[0m\n\u001b[1;32m     43\u001b[0m \u001b[0;31m# Keep the app running\u001b[0m\u001b[0;34m\u001b[0m\u001b[0;34m\u001b[0m\u001b[0;34m\u001b[0m\u001b[0m\n\u001b[1;32m     44\u001b[0m \u001b[0;32mwhile\u001b[0m \u001b[0;32mTrue\u001b[0m\u001b[0;34m:\u001b[0m\u001b[0;34m\u001b[0m\u001b[0;34m\u001b[0m\u001b[0m\n\u001b[0;32m---> 45\u001b[0;31m     \u001b[0mtime\u001b[0m\u001b[0;34m.\u001b[0m\u001b[0msleep\u001b[0m\u001b[0;34m(\u001b[0m\u001b[0;36m1\u001b[0m\u001b[0;34m)\u001b[0m\u001b[0;34m\u001b[0m\u001b[0;34m\u001b[0m\u001b[0m\n\u001b[0m\u001b[1;32m     46\u001b[0m     \u001b[0;31m# print('watching')\u001b[0m\u001b[0;34m\u001b[0m\u001b[0;34m\u001b[0m\u001b[0;34m\u001b[0m\u001b[0m\n",
            "\u001b[0;31mKeyboardInterrupt\u001b[0m: "
          ]
        },
        {
          "data": {
            "image/png": "[encoded data removed]",
            "text/plain": [
              "<Figure size 432x288 with 1 Axes>"
            ]
          },
          "metadata": {
            "needs_background": "light"
          },
          "output_type": "display_data"
        },
        {
          "data": {
            "image/png": "[encoded data removed]",
            "text/plain": [
              "<Figure size 792x216 with 1 Axes>"
            ]
          },
          "metadata": {
            "needs_background": "light"
          },
          "output_type": "display_data"
        }
      ],
      "source": [
        "# imports\n",
        "import threading\n",
        "import time\n",
        "\n",
        "# Create an Event for notifying main thread.\n",
        "callback_done = threading.Event()\n",
        "\n",
        "# Create a callback on_snapshot function to capture changes\n",
        "def on_snapshot(doc_snapshot, changes, read_time):\n",
        "  for change in changes:\n",
        "    # Check for a change in document\n",
        "    if change.type.name == 'MODIFIED':\n",
        "      # print(u'Change: {}'.format(change.document.id))\n",
        "      # iterate through each document snapshot\n",
        "      for doc in doc_snapshot:\n",
        "        print(f'Received new document snapshot: {doc.id}')\n",
        "        # initialize the input processes\n",
        "        input = doc.to_dict()\n",
        "        inputProcesses = input['Processes']\n",
        "        print(inputProcesses)\n",
        "        # dict containing the processes, gantt chart, average waiting time and average turn around time\n",
        "        avgTime(inputProcesses)\n",
        "\n",
        "    # return the control to document watch\n",
        "    callback_done.set()\n",
        "\n",
        "# Watch the document\n",
        "doc_watch = doc_ref.on_snapshot(on_snapshot)\n",
        "\n",
        "# Keep the app running\n",
        "while True:\n",
        "    time.sleep(1)\n",
        "    # print('watching')\n"
      ]
    }
  ],
  "metadata": {
    "colab": {
      "collapsed_sections": [
        "SQX2ctPI0kyC"
      ],
      "name": "FCFS.ipynb",
      "provenance": []
    },
    "kernelspec": {
      "display_name": "Python 3",
      "name": "python3"
    },
    "language_info": {
      "codemirror_mode": {
        "name": "ipython",
        "version": 3
      },
      "file_extension": ".py",
      "mimetype": "text/x-python",
      "name": "python",
      "nbconvert_exporter": "python",
      "pygments_lexer": "ipython3",
      "version": "3.10.2"
    }
  },
  "nbformat": 4,
  "nbformat_minor": 0
}
