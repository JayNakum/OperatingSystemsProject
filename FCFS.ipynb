{
  "nbformat": 4,
  "nbformat_minor": 0,
  "metadata": {
    "colab": {
      "name": "FCFS.ipynb",
      "provenance": [],
      "collapsed_sections": [
        "SQX2ctPI0kyC"
      ],
      "authorship_tag": "ABX9TyOg0uS82MhMDVxQX6LmDxI5",
      "include_colab_link": true
    },
    "kernelspec": {
      "name": "python3",
      "display_name": "Python 3"
    },
    "language_info": {
      "name": "python"
    }
  },
  "cells": [
    {
      "cell_type": "markdown",
      "metadata": {
        "id": "view-in-github",
        "colab_type": "text"
      },
      "source": [
        "<a href=\"https://colab.research.google.com/github/JayNakum/OperatingSystemsProject/blob/main/FCFS.ipynb\" target=\"_parent\"><img src=\"https://colab.research.google.com/assets/colab-badge.svg\" alt=\"Open In Colab\"/></a>"
      ]
    },
    {
      "cell_type": "markdown",
      "source": [
        "## Setting up firebase"
      ],
      "metadata": {
        "id": "yEkDUVrwlcln"
      }
    },
    {
      "cell_type": "code",
      "source": [
        "# imports\n",
        "import firebase_admin\n",
        "from firebase_admin import credentials, firestore\n",
        "\n",
        "# get the credential certificate from json file\n",
        "cred = credentials.Certificate('jaynakum-experiments-88cc723f2db9.json')\n",
        "# using the credentials initialize the firebase app\n",
        "default_app = firebase_admin.initialize_app(cred, {'storageBucket': 'jaynakum-experiments.appspot.com'})\n",
        "# initialize the database\n",
        "db = firestore.client()\n",
        "\n",
        "# initialize the main document reference\n",
        "doc_ref = db.collection(u'CPU Scheduling')\n"
      ],
      "metadata": {
        "id": "6NNbtfjZalqL"
      },
      "execution_count": null,
      "outputs": []
    },
    {
      "cell_type": "markdown",
      "source": [
        "## Generate gantt chart and output table"
      ],
      "metadata": {
        "id": "3y3mL9uM0Vyp"
      }
    },
    {
      "cell_type": "code",
      "source": [
        "# imports\n",
        "from matplotlib import pyplot as plt\n",
        "from firebase_admin import storage\n",
        "\n",
        "# method to generate gantt chart\n",
        "def generateGanttChart(ganttChart: list) -> None:\n",
        "  # create a figure and a set of subplots\n",
        "  fig, gnt = plt.subplots()\n",
        "\n",
        "  # set x-axis limit from 0 to the last entry of gantt chart\n",
        "  gnt.set_xlim(0, ganttChart[(len(ganttChart) - 1)]['Exit Time'] + 1)\n",
        "  # set y-axis limit to 1 because the chart is one line only\n",
        "  gnt.set_ylim(0, 1)\n",
        "\n",
        "  # set labels for both the axis\n",
        "  gnt.set_xlabel('Time')\n",
        "  gnt.set_ylabel('Process ID')\n",
        "\n",
        "  # set y ticks and set labels = '' because there is no need to display it\n",
        "  gnt.set_yticks([10, 20])\n",
        "  gnt.set_yticklabels(['', ''])\n",
        "\n",
        "  # the chart alternates between green and blue color\n",
        "  # _isGreen flag is used to determine the color of broken_barh [broken bar horizontal]\n",
        "  _isGreen = True\n",
        "  for gantt in ganttChart:\n",
        "    # _isGreen alternates between true and false\n",
        "    _isGreen = not _isGreen\n",
        "    # if true draw with green color else draw with blue\n",
        "    if(_isGreen):\n",
        "      # draw the broken_barh(start_time, duration_time)\n",
        "      gnt.broken_barh([(gantt['Start Time'], (gantt['Exit Time'] - gantt['Start Time']))], (8, 4), facecolors=('tab:green'))\n",
        "    else:\n",
        "      # draw the broken_barh(start_time, duration_time)\n",
        "      gnt.broken_barh([(gantt['Start Time'], (gantt['Exit Time'] - gantt['Start Time']))], (8, 4))\n",
        "    # annotate the chart with the process' ID\n",
        "    gnt.annotate(gantt['Process ID'], (gantt['Start Time'] + 0.2, 9.7))\n",
        "\n",
        "  # save the output file\n",
        "  plt.savefig('output/ganttChart.png')\n",
        "  fileName = 'output/ganttChart.png'\n",
        "  # print('Gantt Chart generated at: ' + fileName)\n",
        "\n",
        "  # initialize the storage folder / bucket\n",
        "  bucket = storage.bucket()\n",
        "  # initialize the image blob\n",
        "  blob = bucket.blob(fileName)\n",
        "  # upload the image blob to firebase\n",
        "  blob.upload_from_filename(fileName)\n",
        "\n",
        "# method to generate output table\n",
        "def generateOutput(outputProcesses: list, avgWT: int, avgTAT: int) -> None:\n",
        "  # initializing a list of column lables\n",
        "  columnLables = [\n",
        "    'Process ID',\n",
        "    'Arrival Time',\n",
        "    'Burst Time',\n",
        "    'Waiting Time',\n",
        "    'Completion Time',\n",
        "    'Turn Around Time',\n",
        "    'Response Time'\n",
        "  ]\n",
        "\n",
        "  # making a list of each row(as list) from output \n",
        "  values = [[outputProcesses[i]['Process ID'], outputProcesses[i]['Arrival Time'], outputProcesses[i]['Burst Time'], outputProcesses[i]['Waiting Time'], outputProcesses[i]['Completion Time'], outputProcesses[i]['Turn Around Time'], outputProcesses[i]['Response Time']]for i in range(0, len(outputProcesses))]\n",
        "\n",
        "  # set size and layout of output figure\n",
        "  plt.rcParams[\"figure.figsize\"] = [11.0, 3.0]\n",
        "  plt.rcParams[\"figure.autolayout\"] = True\n",
        "  # create a figure and a set of subplots\n",
        "  fig, table = plt.subplots()\n",
        "  \n",
        "  # turn off x and y axis\n",
        "  table.set_axis_off()\n",
        "  # enter the data into the table\n",
        "  # cellText = values and colLabels = columnLabels with location center\n",
        "  outputTable = table.table(cellText=values, colLabels=columnLables, cellLoc='center', loc='center')\n",
        "  # scale the output image\n",
        "  outputTable.scale(1.5, 1.5)\n",
        "  # print 'Average Waiting Time' and 'Average Turn Around Time' in the image\n",
        "  table.set_title('Average Waiting Time = ' + str(avgWT) + '\\nAverage Turn Around Time = ' + str(avgTAT))\n",
        "\n",
        "  # save the output file\n",
        "  plt.savefig('output/outputTable.png')\n",
        "  fileName = 'output/outputTable.png'\n",
        "  # print('Output Table generated at: ' + fileName)\n",
        "\n",
        "  # initialize the storage folder / bucket\n",
        "  bucket = storage.bucket()\n",
        "  # initialize the image blob\n",
        "  blob = bucket.blob(fileName)\n",
        "  # upload the image blob to firebase\n",
        "  blob.upload_from_filename(fileName)\n"
      ],
      "metadata": {
        "id": "P4J1FVUagGFU"
      },
      "execution_count": null,
      "outputs": []
    },
    {
      "cell_type": "markdown",
      "source": [
        "## First Come First Serve"
      ],
      "metadata": {
        "id": "KPQOwCOy0ffr"
      }
    },
    {
      "cell_type": "code",
      "source": [
        "# main FCFS class for simulation of first come first serve algorithm\n",
        "class FCFS:\n",
        "\n",
        "  def __init__(self, processes: list) -> None:\n",
        "    # global time variable to keep track of all the timings\n",
        "    self.time = 0\n",
        "    # list of all processes where each process is a dict\n",
        "    self.processes = processes\n",
        "    # calculating the number of processes\n",
        "    self.numberOfProcesses = len(processes)\n",
        "\n",
        "  # simulate method performs the simulation\n",
        "  def simulate(self) -> None:\n",
        "    # initializing a list to store a dict of PID, Start Time and Exit Time\n",
        "    ganttChart = []\n",
        "\n",
        "    # the simulation\n",
        "    for process in self.processes: # TIME COMPLEXITY: O(n)\n",
        "\n",
        "      # check for an empty state\n",
        "      if(process['Arrival Time'] > self.time):\n",
        "        self.time += (process['Arrival Time'] - self.time)\n",
        "\n",
        "      # note the 'Response Time' of each process\n",
        "      if 'Response Time' in process.keys():\n",
        "        pass\n",
        "      else:\n",
        "        process['Response Time'] = (self.time - process['Arrival Time'])\n",
        "\n",
        "      # add the values to gantt chart\n",
        "      # where start time = global time and exit time = global time + 'Burst Time'\n",
        "      ganttChart.append({'Process ID': process['Process ID'], 'Start Time': self.time, 'Exit Time': self.time + process['Burst Time']})\n",
        "      # increment the global time\n",
        "      self.time += process['Burst Time']\n",
        "      # note the 'Completion Time'\n",
        "      process['Completion Time'] = self.time\n",
        "    \n",
        "    # generate and upload gantt chart image\n",
        "    generateGanttChart(ganttChart)\n",
        "\n",
        "  # method to calculate TAT, WT and average of TAT and WT\n",
        "  def calculateTimes(self) -> int:\n",
        "    sumTAT = 0\n",
        "    sumWT = 0\n",
        "\n",
        "    # iterate through each process and calculate its times\n",
        "    for process in self.processes: # TIME COMPLEXITY: O(n)\n",
        "      # turn around time = completion time - arrival time\n",
        "      process['Turn Around Time'] = process['Completion Time'] - process['Arrival Time']\n",
        "      # waiting time = turn around time - birst time\n",
        "      process['Waiting Time'] = process['Turn Around Time'] - process['Burst Time']\n",
        "\n",
        "      # calculate the sum\n",
        "      sumTAT += process['Turn Around Time']\n",
        "      sumWT += process['Waiting Time']\n",
        "    # calculate average using the sum\n",
        "    avgWT = (sumWT / self.numberOfProcesses)\n",
        "    avgTAT = (sumTAT / self.numberOfProcesses)\n",
        "    # generate and upload output table image\n",
        "    generateOutput(self.processes, avgWT, avgTAT)\n"
      ],
      "metadata": {
        "id": "KFp-OkvDgU9S"
      },
      "execution_count": null,
      "outputs": []
    },
    {
      "cell_type": "markdown",
      "source": [
        "### Print output to console [OPTIONAL]"
      ],
      "metadata": {
        "id": "SQX2ctPI0kyC"
      }
    },
    {
      "cell_type": "code",
      "source": [
        "# this is an optional method\n",
        "# it prints the output to console in a readable format\n",
        "def printFormattedOutput() -> None:\n",
        "\n",
        "    print()\n",
        "    print('PID = Process ID')\n",
        "    print('ST = Start Time')\n",
        "    print('ET = Exit Time')\n",
        "\n",
        "    print()\n",
        "    print('PID\\tST\\tET')\n",
        "    for gantt in output['Gantt Chart']:\n",
        "        id = str(gantt['Process ID'])\n",
        "        st = str(gantt['Start Time'])\n",
        "        et = str(gantt['Exit Time'])\n",
        "        print(id + '\\t' + st + '\\t' + et)\n",
        "\n",
        "    print()\n",
        "    print('PID = Process ID')\n",
        "    print('AT = Arrival Time')\n",
        "    print('BT = Burst Time')\n",
        "    print('CT = Completion Time')\n",
        "    print('TAT = Turn Around Time')\n",
        "    print('WT = Waiting Time')\n",
        "    print('RT = Response Time')\n",
        "\n",
        "    print()\n",
        "    print('PID\\tAT\\tBT\\tCT\\tTAT\\tWT\\tRT')\n",
        "    for process in output['Processes']:\n",
        "        pid = str(process['Process ID'])\n",
        "        at = str(process['Arrival Time'])\n",
        "        bt = str(process['Burst Time'])\n",
        "        ct = str(process['Completion Time'])\n",
        "        tat = str(process['Turn Around Time'])\n",
        "        wt = str(process['Waiting Time'])\n",
        "        rt = str(process['Response Time'])\n",
        "        print(pid + '\\t' + at + '\\t' + bt + '\\t' +\n",
        "              ct + '\\t' + tat + '\\t' + wt + '\\t' + rt)\n",
        "\n",
        "    print()\n",
        "    print('Average Waiting Time = ' + str(output['Average Waiting Time']))\n",
        "    print('Average Turn Around Time = ' + str(output['Average Turn Around Time']))\n"
      ],
      "metadata": {
        "id": "KU-PkQvZgr9t"
      },
      "execution_count": null,
      "outputs": []
    },
    {
      "cell_type": "markdown",
      "source": [
        "## Get input from firebase"
      ],
      "metadata": {
        "id": "WOCWZC-Plq-4"
      }
    },
    {
      "cell_type": "code",
      "source": [
        "# imports\n",
        "import threading\n",
        "import time\n",
        "\n",
        "# Create an Event for notifying main thread.\n",
        "callback_done = threading.Event()\n",
        "\n",
        "# Create a callback on_snapshot function to capture changes\n",
        "def on_snapshot(doc_snapshot, changes, read_time):\n",
        "  for change in changes:\n",
        "    # Check for a change in document\n",
        "    if change.type.name == 'MODIFIED':\n",
        "      # print(u'Change: {}'.format(change.document.id))\n",
        "      # iterate through each document snapshot\n",
        "      for doc in doc_snapshot:\n",
        "        print(f'Received new document snapshot: {doc.id}')\n",
        "        # initialize the input processes\n",
        "        input = doc.to_dict()\n",
        "        inputProcesses = input['Processes']\n",
        "        print(inputProcesses)\n",
        "        # dict containing the processes, gantt chart, average waiting time and average turn around time\n",
        "        inputProcesses.sort(key=lambda process: process['Arrival Time']) # Timsort Algorithm TIME COMPLEXITY: O(nlogn)\n",
        "        \n",
        "        # initialize the main output dict\n",
        "        output = {\n",
        "            'Processes': inputProcesses,\n",
        "            'Gantt Chart': [],\n",
        "            'Average Waiting Time': 0,\n",
        "            'Average Turn Around Time': 0\n",
        "        }\n",
        "\n",
        "        # create object of FCFS class\n",
        "        fcfs = FCFS(output['Processes'])\n",
        "        # and call its methods\n",
        "        fcfs.simulate()\n",
        "        fcfs.calculateTimes()\n",
        "    # return the control to document watch\n",
        "    callback_done.set()\n",
        "\n",
        "# Watch the document\n",
        "doc_watch = doc_ref.on_snapshot(on_snapshot)\n",
        "\n",
        "# Keep the app running\n",
        "while True:\n",
        "    time.sleep(1)\n",
        "    # print('watching')\n"
      ],
      "metadata": {
        "colab": {
          "base_uri": "https://localhost:8080/",
          "height": 750
        },
        "id": "Han2h2HaajfO",
        "outputId": "6419f85b-f056-47a9-a7f8-0bc79ea936a0"
      },
      "execution_count": null,
      "outputs": [
        {
          "output_type": "stream",
          "name": "stdout",
          "text": [
            "Received new document snapshot: First Come First Serve\n",
            "[{'Process ID': 0, 'Burst Time': 1, 'Arrival Time': 0}, {'Burst Time': 5, 'Arrival Time': 2, 'Process ID': 1}, {'Process ID': 2, 'Arrival Time': 3, 'Burst Time': 5}]\n"
          ]
        },
        {
          "output_type": "error",
          "ename": "KeyboardInterrupt",
          "evalue": "ignored",
          "traceback": [
            "\u001b[0;31m---------------------------------------------------------------------------\u001b[0m",
            "\u001b[0;31mKeyboardInterrupt\u001b[0m                         Traceback (most recent call last)",
            "\u001b[0;32m<ipython-input-5-cf589ca92c89>\u001b[0m in \u001b[0;36m<module>\u001b[0;34m()\u001b[0m\n\u001b[1;32m     43\u001b[0m \u001b[0;31m# Keep the app running\u001b[0m\u001b[0;34m\u001b[0m\u001b[0;34m\u001b[0m\u001b[0;34m\u001b[0m\u001b[0m\n\u001b[1;32m     44\u001b[0m \u001b[0;32mwhile\u001b[0m \u001b[0;32mTrue\u001b[0m\u001b[0;34m:\u001b[0m\u001b[0;34m\u001b[0m\u001b[0;34m\u001b[0m\u001b[0m\n\u001b[0;32m---> 45\u001b[0;31m     \u001b[0mtime\u001b[0m\u001b[0;34m.\u001b[0m\u001b[0msleep\u001b[0m\u001b[0;34m(\u001b[0m\u001b[0;36m1\u001b[0m\u001b[0;34m)\u001b[0m\u001b[0;34m\u001b[0m\u001b[0;34m\u001b[0m\u001b[0m\n\u001b[0m\u001b[1;32m     46\u001b[0m     \u001b[0;31m# print('watching')\u001b[0m\u001b[0;34m\u001b[0m\u001b[0;34m\u001b[0m\u001b[0;34m\u001b[0m\u001b[0m\n",
            "\u001b[0;31mKeyboardInterrupt\u001b[0m: "
          ]
        },
        {
          "output_type": "display_data",
          "data": {
            "text/plain": [
              "<Figure size 432x288 with 1 Axes>"
            ],
            "image/png": "[encoded data removed]"
          },
          "metadata": {
            "needs_background": "light"
          }
        },
        {
          "output_type": "display_data",
          "data": {
            "text/plain": [
              "<Figure size 792x216 with 1 Axes>"
            ],
            "image/png": "[encoded data removed]"
          },
          "metadata": {
            "needs_background": "light"
          }
        }
      ]
    }
  ]
}